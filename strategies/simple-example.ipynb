{
 "cells": [
  {
   "cell_type": "code",
   "execution_count": 12,
   "metadata": {},
   "outputs": [
    {
     "name": "stderr",
     "output_type": "stream",
     "text": [
      "/Users/babebp/Programming/backtest-trading-strategies/venv/lib/python3.8/site-packages/vectorbt/generic/stats_builder.py:396: UserWarning: Metric 'sharpe_ratio' requires frequency to be set\n",
      "  warnings.warn(warning_message)\n",
      "/Users/babebp/Programming/backtest-trading-strategies/venv/lib/python3.8/site-packages/vectorbt/generic/stats_builder.py:396: UserWarning: Metric 'calmar_ratio' requires frequency to be set\n",
      "  warnings.warn(warning_message)\n",
      "/Users/babebp/Programming/backtest-trading-strategies/venv/lib/python3.8/site-packages/vectorbt/generic/stats_builder.py:396: UserWarning: Metric 'omega_ratio' requires frequency to be set\n",
      "  warnings.warn(warning_message)\n",
      "/Users/babebp/Programming/backtest-trading-strategies/venv/lib/python3.8/site-packages/vectorbt/generic/stats_builder.py:396: UserWarning: Metric 'sortino_ratio' requires frequency to be set\n",
      "  warnings.warn(warning_message)\n",
      "/var/folders/k_/3s9bjxk17ss2bty8k9tjwjrc0000gn/T/ipykernel_63238/952027735.py:20: UserWarning: Object has multiple columns. Aggregating using <function mean at 0x7f78e053ef70>. Pass column to select a single column/group.\n",
      "  pf.stats()\n"
     ]
    },
    {
     "data": {
      "text/plain": [
       "Start                            0.000000\n",
       "End                           2014.000000\n",
       "Period                        2015.000000\n",
       "Start Value                    100.000000\n",
       "End Value                      133.257663\n",
       "Total Return [%]                33.257663\n",
       "Benchmark Return [%]            66.715214\n",
       "Max Gross Exposure [%]         100.000000\n",
       "Total Fees Paid                  0.000000\n",
       "Max Drawdown [%]                17.040564\n",
       "Max Drawdown Duration          738.205937\n",
       "Total Trades                    24.452690\n",
       "Total Closed Trades             24.380540\n",
       "Total Open Trades                0.072150\n",
       "Open Trade PnL                  -0.288995\n",
       "Win Rate [%]                    51.284159\n",
       "Best Trade [%]                  18.138092\n",
       "Worst Trade [%]                 -4.913726\n",
       "Avg Winning Trade [%]            5.847819\n",
       "Avg Losing Trade [%]            -2.161687\n",
       "Avg Winning Trade Duration      84.591309\n",
       "Avg Losing Trade Duration       36.704006\n",
       "Profit Factor                    2.988465\n",
       "Expectancy                       2.120641\n",
       "Name: agg_func_mean, dtype: float64"
      ]
     },
     "execution_count": 12,
     "metadata": {},
     "output_type": "execute_result"
    }
   ],
   "source": [
    "import vectorbt as vbt\n",
    "import numpy as np\n",
    "import pandas as pd\n",
    "\n",
    "# read dataset\n",
    "df = pd.read_pickle('../data/XAU_USD_D.pkl')\n",
    "\n",
    "# convert datetime column to type datetime\n",
    "df['time'] = pd.to_datetime(df['time'])\n",
    "\n",
    "# get close price\n",
    "price = df['mid_c']\n",
    "\n",
    "windows = np.arange(2, 101)\n",
    "fast_ma, slow_ma = vbt.MA.run_combs(price, window=windows, r=2, short_names=['fast', 'slow'])\n",
    "entries = fast_ma.ma_crossed_above(slow_ma)\n",
    "exits = fast_ma.ma_crossed_below(slow_ma)\n",
    "\n",
    "pf = vbt.Portfolio.from_signals(price, entries, exits)\n",
    "pf.stats()\n"
   ]
  }
 ],
 "metadata": {
  "kernelspec": {
   "display_name": "venv",
   "language": "python",
   "name": "python3"
  },
  "language_info": {
   "codemirror_mode": {
    "name": "ipython",
    "version": 3
   },
   "file_extension": ".py",
   "mimetype": "text/x-python",
   "name": "python",
   "nbconvert_exporter": "python",
   "pygments_lexer": "ipython3",
   "version": "3.8.9"
  }
 },
 "nbformat": 4,
 "nbformat_minor": 2
}
